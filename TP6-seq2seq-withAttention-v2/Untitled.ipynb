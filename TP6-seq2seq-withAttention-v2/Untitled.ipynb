{
 "cells": [
  {
   "cell_type": "code",
   "execution_count": 2,
   "id": "f27ecd6d-4104-415c-af2e-4607e03619a2",
   "metadata": {},
   "outputs": [
    {
     "name": "stdout",
     "output_type": "stream",
     "text": [
      "Train set: (217758, 4)\n",
      "Validation set: (27220, 4)\n",
      "Test set: (27220, 4)\n"
     ]
    }
   ],
   "source": [
    "import pandas as pd\n",
    "from sklearn.model_selection import train_test_split\n",
    "\n",
    "# 1. Lire le fichier TSV\n",
    "df = pd.read_csv('Sentence pairs in Spanish-English - 2025-06-13.tsv', sep='\\t')\n",
    "\n",
    "# 2. Diviser en train (80%) et temp (20%)\n",
    "train_df, temp_df = train_test_split(df, test_size=0.2, random_state=42)\n",
    "\n",
    "# 3. Diviser temp en validation (50% de 20% = 10%) et test (50% de 20% = 10%)\n",
    "val_df, test_df = train_test_split(temp_df, test_size=0.5, random_state=42)\n",
    "\n",
    "# 4. Sauvegarder les datasets dans des fichiers .tsv\n",
    "train_df.to_csv('SentencePairsSpanish-English-train.tsv', sep='\\t', index=False)\n",
    "val_df.to_csv('SentencePairsSpanish-English-val.tsv', sep='\\t', index=False)\n",
    "test_df.to_csv('SentencePairsSpanish-English-test.tsv', sep='\\t', index=False)\n",
    "\n",
    "# 5. Afficher un aperçu des tailles\n",
    "print(\"Train set:\", train_df.shape)\n",
    "print(\"Validation set:\", val_df.shape)\n",
    "print(\"Test set:\", test_df.shape)\n"
   ]
  },
  {
   "cell_type": "code",
   "execution_count": 4,
   "id": "a15a38e8-9e63-4d94-8064-5f92444932b4",
   "metadata": {},
   "outputs": [
    {
     "name": "stdout",
     "output_type": "stream",
     "text": [
      "Train set: (108879, 4)\n",
      "Validation set: (13610, 4)\n",
      "Test set: (13610, 4)\n"
     ]
    }
   ],
   "source": [
    "import pandas as pd\n",
    "from sklearn.model_selection import train_test_split\n",
    "\n",
    "# 1. Read the TSV file\n",
    "df = pd.read_csv('Sentence pairs in Spanish-English - 2025-06-13.tsv', sep='\\t', header=None)\n",
    "\n",
    "# 2. Keep only the first 50% of the rows\n",
    "half_df = df.iloc[:len(df) // 2]\n",
    "\n",
    "# 3. Split into 80% train, 20% temp\n",
    "train_df, temp_df = train_test_split(half_df, test_size=0.2, random_state=42)\n",
    "\n",
    "# 4. Split temp into 50% val, 50% test => 10% each of original half\n",
    "val_df, test_df = train_test_split(temp_df, test_size=0.5, random_state=42)\n",
    "\n",
    "# 5. Save to TSV files (without headers, to match original format)\n",
    "train_df.to_csv('SentencePairsSpanish-English-train.tsv', sep='\\t', index=False, header=False)\n",
    "val_df.to_csv('SentencePairsSpanish-English-val.tsv', sep='\\t', index=False, header=False)\n",
    "test_df.to_csv('SentencePairsSpanish-English-test.tsv', sep='\\t', index=False, header=False)\n",
    "\n",
    "# 6. Print the sizes\n",
    "print(\"Train set:\", train_df.shape)\n",
    "print(\"Validation set:\", val_df.shape)\n",
    "print(\"Test set:\", test_df.shape)\n"
   ]
  },
  {
   "cell_type": "code",
   "execution_count": null,
   "id": "58d66df4-4f79-4a0e-9b5b-15eccfc0dd14",
   "metadata": {},
   "outputs": [],
   "source": []
  }
 ],
 "metadata": {
  "kernelspec": {
   "display_name": "Python 3 (ipykernel)",
   "language": "python",
   "name": "python3"
  },
  "language_info": {
   "codemirror_mode": {
    "name": "ipython",
    "version": 3
   },
   "file_extension": ".py",
   "mimetype": "text/x-python",
   "name": "python",
   "nbconvert_exporter": "python",
   "pygments_lexer": "ipython3",
   "version": "3.12.7"
  }
 },
 "nbformat": 4,
 "nbformat_minor": 5
}
